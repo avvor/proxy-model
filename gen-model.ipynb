{
 "cells": [
  {
   "cell_type": "code",
   "execution_count": 13,
   "metadata": {},
   "outputs": [],
   "source": [
    "from sch_viewer.parser import *\n",
    "parser=tNavigatorModelParser()\n",
    "model=parser.build_model(r'I:\\proxy\\test_model\\NETWORK_DEMO.DATA')\n",
    "\n",
    "nodeprop = model.find_keywords(keyword='NODEPROP')[0]\n",
    "nodeprop.set_body_text(nodeprop.get_body_text().replace(\"'P' 22\", \"'P' 100\"))\n",
    "\n",
    "kw = model.find_keywords(keyword='NETCOMPA')[0]\n",
    "netcompa_text = kw.get_body_text()\n",
    "body_text=netcompa_text.replace(\"'C-\", \"--'C-\").replace(\"100\", \"40\")\n",
    "kw.set_body_text(body_text)\n",
    "\n",
    "model.save_as('proxy')"
   ]
  },
  {
   "cell_type": "code",
   "execution_count": 26,
   "metadata": {},
   "outputs": [],
   "source": [
    "from sch_viewer.parser import *\n",
    "parser=tNavigatorModelParser()\n",
    "model=parser.build_model(r'C:\\WORK\\СППР ЦУД\\tnav-for-proxy\\test_model\\proxy.DATA')\n",
    "\n",
    "# 8 базовых вариантов\n",
    "evt={\n",
    "    0 : ['W5', 'W5-1', 'W5-2', 'W8', 'W9'], \n",
    "    1 : ['W11', 'W12', 'W13', 'W21', 'W22', 'W23', 'W41'], \n",
    "    2 : ['W50', 'W51', 'W52', 'W81', 'W82', 'W91', 'W92'], \n",
    "}\n",
    "\n",
    "n=len(evt)\n",
    "for v in range(2**n):\n",
    "    bitstr=format(v, '0{}b'.format(n))\n",
    "    wconprod = model.find_keywords(keyword=\"WCONPROD\")[0]\n",
    "    for i, s in enumerate(bitstr):\n",
    "        if s=='0':\n",
    "            for index, line in enumerate(wconprod.body):\n",
    "                for well in evt[i]:\n",
    "                    if line.startswith(well) or line.startswith(f\"'{well}'\"):\n",
    "                        wconprod.body[index]=line.replace('OPEN', 'SHUT')\n",
    "    model.save_as(f'{bitstr}-xxxx-xxxx-xxxx')\n",
    "    model.return_to_original()"
   ]
  },
  {
   "cell_type": "code",
   "execution_count": 4,
   "metadata": {},
   "outputs": [],
   "source": [
    "from sch_viewer.parser import *\n",
    "from random import randint\n",
    "\n",
    "evt=[['W5', 'W5-1', 'W5-2', 'W8', 'W9'], ['W11', 'W12', 'W13', 'W21', 'W22', 'W23', 'W41'], ['W50', 'W51', 'W52', 'W81', 'W82', 'W91', 'W92']]\n",
    "\n",
    "p = tNavigatorModelParser()\n",
    "model = p.build_model(r'C:\\WORK\\СППР ЦУД\\tnav-for-proxy\\test_model\\proxy.DATA')\n",
    "\n",
    "# количество элементов в выборке\n",
    "minyear=min(model.schedule_data).year+3\n",
    "# maxyear=max(model.schedule_data).year\n",
    "maxyear=2026\n",
    "\n",
    "modelvariants=[]\n",
    "n=len(evt)\n",
    "for v in range(2**n):\n",
    "    bitstr=format(v, '0{}b'.format(n)) \n",
    "    for y1 in range(minyear, maxyear, 4) if bitstr[0]=='1' else ['xxxx']:\n",
    "        for y2 in range(minyear, maxyear, 4) if bitstr[1]=='1' else ['xxxx']:\n",
    "            for y3 in range(minyear, maxyear, 4) if bitstr[2]=='1' else ['xxxx']:\n",
    "                name=f\"{bitstr}-{y1}-{y2}-{y3}\"\n",
    "                modelvariants.append(name)\n",
    "\n",
    "wconprod = model.delete_keywords(datetime(2012,3,1), keyword=\"WCONPROD\")[0]\n",
    "body = wconprod.body.copy()\n",
    "\n",
    "# выключаем скважины в первоначальный период\n",
    "kw = tNavigatorKeyword(wconprod.name)\n",
    "kw.body = body.copy()\n",
    "for index, line in enumerate(kw.body):\n",
    "    for i in range(len(evt)):\n",
    "        for well in evt[i]:\n",
    "            if line.startswith(well) or line.startswith(f\"'{well}'\"):\n",
    "                kw.body[index]=line.replace('OPEN', 'SHUT')\n",
    "model.add_keyword(datetime(2012,3,1), kw)\n",
    "        \n",
    "for name in modelvariants:\n",
    "    v = name.split('-')\n",
    "    d = { \n",
    "        'Status' : [int(x) for x in v[0]], \n",
    "        'Year' : v[1:],\n",
    "        'Event' : evt }    \n",
    "    \n",
    "    for i, b in enumerate(d['Status']):\n",
    "        if b==1:\n",
    "            kw = tNavigatorKeyword(wconprod.name)\n",
    "            kw.add_line(wconprod.name)\n",
    "            for index, line in enumerate(body):\n",
    "                for well in d['Event'][i]:\n",
    "                    if line.startswith(well) or line.startswith(f\"'{well}'\"):\n",
    "                        kw.add_line(line)\n",
    "            kw.add_line('/')\n",
    "            model.add_keyword(datetime(int(d['Year'][i]), 1, 1), kw)\n",
    "    model.save_as(name)\n",
    "    for year in d['Year']:\n",
    "        if year!='xxxx' and len(model.find_keywords(datetime(int(year),1,1), keyword=wconprod.name))>0:\n",
    "            model.delete_keywords(datetime(int(year),1,1), keyword=wconprod.name)"
   ]
  }
 ],
 "metadata": {
  "kernelspec": {
   "display_name": "Python 3.8.1 ('.venv': venv)",
   "language": "python",
   "name": "python3"
  },
  "language_info": {
   "codemirror_mode": {
    "name": "ipython",
    "version": 3
   },
   "file_extension": ".py",
   "mimetype": "text/x-python",
   "name": "python",
   "nbconvert_exporter": "python",
   "pygments_lexer": "ipython3",
   "version": "3.8.1"
  },
  "orig_nbformat": 4,
  "vscode": {
   "interpreter": {
    "hash": "6867585beada23e38cc6f9ff340875e80f09797bc71f2dd26f1cc01d5c2b5e15"
   }
  }
 },
 "nbformat": 4,
 "nbformat_minor": 2
}
